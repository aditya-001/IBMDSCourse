{
 "cells": [
  {
   "cell_type": "markdown",
   "id": "e5dac22c",
   "metadata": {},
   "source": [
    "# Data Science Tools and Ecosystem"
   ]
  },
  {
   "cell_type": "markdown",
   "id": "790ba181",
   "metadata": {},
   "source": [
    "In this notebook, Data Science Tools and Ecosystem are summarized."
   ]
  },
  {
   "cell_type": "markdown",
   "id": "73fe971e",
   "metadata": {},
   "source": [
    "**Objectives**:\n",
    "\n",
    "- List popular data science languages.\n",
    "- List popular data science libraries.\n",
    "- List popular open-source data science tools.\n",
    "- Perform arithmetic operations."
   ]
  },
  {
   "cell_type": "markdown",
   "id": "c886eb7a",
   "metadata": {},
   "source": [
    "## Author:"
   ]
  },
  {
   "cell_type": "markdown",
   "id": "e22f0b9e",
   "metadata": {},
   "source": [
    "Aditya Raj"
   ]
  },
  {
   "cell_type": "markdown",
   "id": "1b212612",
   "metadata": {},
   "source": [
    "Some of the popular languages that Data Scientists use are:"
   ]
  },
  {
   "cell_type": "code",
   "execution_count": 1,
   "id": "97a66040",
   "metadata": {},
   "outputs": [],
   "source": [
    "listOfDSlanguages=[\"Python\", \"R\", \"Scala\", \"Julia\", \"SQL\"]"
   ]
  },
  {
   "cell_type": "markdown",
   "id": "2c61a6e5",
   "metadata": {},
   "source": [
    "Some of the commonly used libraries used by Data Scientists include:"
   ]
  },
  {
   "cell_type": "code",
   "execution_count": 2,
   "id": "71b4e89f",
   "metadata": {},
   "outputs": [],
   "source": [
    "listOfDSlibraries=[\"Pandas\", \"Numpy\", \"Matlplotlib\",\"Seaborn\",\"scikit-learn\"]"
   ]
  },
  {
   "cell_type": "markdown",
   "id": "5db25f26",
   "metadata": {},
   "source": [
    "|Data Science Tools|\n",
    "|:----|\n",
    "|Jupyter Notebook|\n",
    "|RStudio|\n",
    "|Apache Spark|"
   ]
  },
  {
   "cell_type": "markdown",
   "id": "bf296f14",
   "metadata": {},
   "source": [
    "Below are a few examples of evaluating arithmetic expressions in Python."
   ]
  },
  {
   "cell_type": "code",
   "execution_count": 3,
   "id": "59df144b",
   "metadata": {},
   "outputs": [
    {
     "data": {
      "text/plain": [
       "17"
      ]
     },
     "execution_count": 3,
     "metadata": {},
     "output_type": "execute_result"
    }
   ],
   "source": [
    "#This a simple arithmetic expression to mutiply then add integers\n",
    "(3*4)+5"
   ]
  },
  {
   "cell_type": "code",
   "execution_count": 4,
   "id": "6f4fa259",
   "metadata": {},
   "outputs": [
    {
     "data": {
      "text/plain": [
       "3.3333333333333335"
      ]
     },
     "execution_count": 4,
     "metadata": {},
     "output_type": "execute_result"
    }
   ],
   "source": [
    "#This will convert 200 minutes to hours by diving by 60\n",
    "200/60"
   ]
  },
  {
   "cell_type": "code",
   "execution_count": null,
   "id": "7f793591",
   "metadata": {},
   "outputs": [],
   "source": []
  }
 ],
 "metadata": {
  "kernelspec": {
   "display_name": "Python 3",
   "language": "python",
   "name": "python3"
  },
  "language_info": {
   "codemirror_mode": {
    "name": "ipython",
    "version": 3
   },
   "file_extension": ".py",
   "mimetype": "text/x-python",
   "name": "python",
   "nbconvert_exporter": "python",
   "pygments_lexer": "ipython3",
   "version": "3.10.6"
  }
 },
 "nbformat": 4,
 "nbformat_minor": 5
}
